{
 "cells": [
  {
   "cell_type": "code",
   "execution_count": 1,
   "metadata": {},
   "outputs": [],
   "source": [
    "import json \n",
    "import pandas as pd\n",
    "import numpy as np"
   ]
  },
  {
   "cell_type": "code",
   "execution_count": 2,
   "metadata": {},
   "outputs": [],
   "source": [
    "# Opening JSON file \n",
    "f = open('neighbor-districts-modified.json') \n",
    "  \n",
    "# returns JSON object as a dictionary \n",
    "data = json.load(f) \n",
    "\n",
    "# sorting districts alphabetically\n",
    "districts_from_json = []\n",
    "for i in data:\n",
    "    districts_from_json.append(i)\n",
    "districts_from_json = np.array(districts_from_json)\n",
    "districts_from_json.sort()\n",
    "\n",
    "# ids for districts\n",
    "ids = np.arange(101,101+len(districts_from_json))\n",
    "\n",
    "# Dictionary for storing ids of districts\n",
    "Dict = {} \n",
    "for i in range(len(ids)):\n",
    "    Dict[districts_from_json[i]]=ids[i]\n",
    "\n",
    "# storing vertex 1 and vertex 2 of each edge\n",
    "edge1 = []\n",
    "edge2 = []\n",
    "for i in range(len(districts_from_json)):\n",
    "    for j in range(len(data[districts_from_json[i]])):\n",
    "        edge1.append(Dict[districts_from_json[i]])\n",
    "        edge2.append(Dict[data[districts_from_json[i]][j]])\n",
    "\n",
    "# Creating dataframe\n",
    "edge_list = {'District 1': edge1, 'District 2': edge2}\n",
    "edge_list = pd.DataFrame(edge_list)\n",
    "\n",
    "# Creating csv file\n",
    "edge_list.to_csv('edge-graph.csv')"
   ]
  },
  {
   "cell_type": "code",
   "execution_count": null,
   "metadata": {},
   "outputs": [],
   "source": []
  }
 ],
 "metadata": {
  "kernelspec": {
   "display_name": "Python 3",
   "language": "python",
   "name": "python3"
  },
  "language_info": {
   "codemirror_mode": {
    "name": "ipython",
    "version": 3
   },
   "file_extension": ".py",
   "mimetype": "text/x-python",
   "name": "python",
   "nbconvert_exporter": "python",
   "pygments_lexer": "ipython3",
   "version": "3.6.9"
  }
 },
 "nbformat": 4,
 "nbformat_minor": 4
}
