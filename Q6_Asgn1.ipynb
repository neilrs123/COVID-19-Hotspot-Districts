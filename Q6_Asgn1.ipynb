{
 "cells": [
  {
   "cell_type": "code",
   "execution_count": 1,
   "metadata": {},
   "outputs": [],
   "source": [
    "import pandas as pd\n",
    "import numpy as np"
   ]
  },
  {
   "cell_type": "code",
   "execution_count": 2,
   "metadata": {},
   "outputs": [],
   "source": [
    "# week\n",
    "cases_week = pd.read_csv('cases-week.csv')\n",
    "cases_week = cases_week.drop(['Unnamed: 0'], axis = 1)\n",
    "neighbor_week = pd.read_csv('neighbor-week.csv')\n",
    "neighbor_week = neighbor_week.drop(['Unnamed: 0'], axis = 1)\n",
    "state_week = pd.read_csv('state-week.csv')\n",
    "state_week = state_week.drop(['Unnamed: 0'], axis = 1)\n",
    "\n",
    "neighborhoodzscore = []\n",
    "statezscore = []\n",
    "for i in range(len(cases_week)):\n",
    "    if neighbor_week['neighborstdev'][i]<1e-5:\n",
    "        neighborhoodzscore.append(0.00)\n",
    "    else:\n",
    "        neighborhoodzscore.append(round((cases_week['cases'][i]-neighbor_week['neighbormean'][i])/neighbor_week['neighborstdev'][i],2))\n",
    "    if state_week['statestdev'][i]<1e-5:\n",
    "        statezscore.append(0.00)\n",
    "    else:\n",
    "        statezscore.append(round((cases_week['cases'][i]-state_week['statemean'][i])/state_week['statestdev'][i],2))\n",
    "zscore_week = {'districtid': cases_week['districtid'],'weekid': cases_week['weekid'],'neighborhoodzscore': neighborhoodzscore, 'statezscore': statezscore }\n",
    "zscore_week = pd.DataFrame(zscore_week)\n",
    "\n",
    "zscore_week.to_csv('zscore-week.csv')"
   ]
  },
  {
   "cell_type": "code",
   "execution_count": 3,
   "metadata": {},
   "outputs": [],
   "source": [
    "# month\n",
    "cases_month = pd.read_csv('cases-month.csv')\n",
    "cases_month = cases_month.drop(['Unnamed: 0'], axis = 1)\n",
    "neighbor_month = pd.read_csv('neighbor-month.csv')\n",
    "neighbor_month = neighbor_month.drop(['Unnamed: 0'], axis = 1)\n",
    "state_month = pd.read_csv('state-month.csv')\n",
    "state_month = state_month.drop(['Unnamed: 0'], axis = 1)\n",
    "\n",
    "neighborhoodzscore = []\n",
    "statezscore = []\n",
    "for i in range(len(cases_month)):\n",
    "    if neighbor_month['neighborstdev'][i]<1e-5:\n",
    "        neighborhoodzscore.append(0.00)\n",
    "    else:\n",
    "        neighborhoodzscore.append(round((cases_month['cases'][i]-neighbor_month['neighbormean'][i])/neighbor_month['neighborstdev'][i],2))\n",
    "    if state_month['statestdev'][i]<1e-5:\n",
    "        statezscore.append(0.00)\n",
    "    else:\n",
    "        statezscore.append(round((cases_month['cases'][i]-state_month['statemean'][i])/state_month['statestdev'][i],2))\n",
    "zscore_month = {'districtid': cases_month['districtid'],'monthid': cases_month['monthid'],'neighborhoodzscore': neighborhoodzscore, 'statezscore': statezscore }\n",
    "zscore_month = pd.DataFrame(zscore_month)\n",
    "\n",
    "zscore_month.to_csv('zscore-month.csv')"
   ]
  },
  {
   "cell_type": "code",
   "execution_count": 4,
   "metadata": {},
   "outputs": [],
   "source": [
    "# overall\n",
    "cases_overall = pd.read_csv('cases-overall.csv')\n",
    "cases_overall = cases_overall.drop(['Unnamed: 0'], axis = 1)\n",
    "neighbor_overall = pd.read_csv('neighbor-overall.csv')\n",
    "neighbor_overall = neighbor_overall.drop(['Unnamed: 0'], axis = 1)\n",
    "state_overall = pd.read_csv('state-overall.csv')\n",
    "state_overall = state_overall.drop(['Unnamed: 0'], axis = 1)\n",
    "\n",
    "neighborhoodzscore = []\n",
    "statezscore = []\n",
    "for i in range(len(cases_overall)):\n",
    "    if neighbor_overall['neighborstdev'][i]<1e-5:\n",
    "        neighborhoodzscore.append(0.00)\n",
    "    else:\n",
    "        neighborhoodzscore.append(round((cases_overall['cases'][i]-neighbor_overall['neighbormean'][i])/neighbor_overall['neighborstdev'][i],2))\n",
    "    if state_overall['statestdev'][i]<1e-5:\n",
    "        statezscore.append(0.00)\n",
    "    else:\n",
    "        statezscore.append(round((cases_overall['cases'][i]-state_overall['statemean'][i])/state_overall['statestdev'][i],2))\n",
    "zscore_overall = {'districtid': cases_overall['districtid'],'overallid': cases_overall['overallid'],'neighborhoodzscore': neighborhoodzscore, 'statezscore': statezscore }\n",
    "zscore_overall = pd.DataFrame(zscore_overall)\n",
    "\n",
    "zscore_overall.to_csv('zscore-overall.csv')"
   ]
  }
 ],
 "metadata": {
  "kernelspec": {
   "display_name": "Python 3",
   "language": "python",
   "name": "python3"
  },
  "language_info": {
   "codemirror_mode": {
    "name": "ipython",
    "version": 3
   },
   "file_extension": ".py",
   "mimetype": "text/x-python",
   "name": "python",
   "nbconvert_exporter": "python",
   "pygments_lexer": "ipython3",
   "version": "3.7.1"
  }
 },
 "nbformat": 4,
 "nbformat_minor": 4
}
